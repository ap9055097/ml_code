{
 "cells": [
  {
   "cell_type": "code",
   "execution_count": 34,
   "metadata": {},
   "outputs": [
    {
     "data": {
      "text/plain": [
       "(49995, 625)"
      ]
     },
     "execution_count": 34,
     "metadata": {},
     "output_type": "execute_result"
    }
   ],
   "source": [
    "from sklearn.metrics import f1_score , precision_score , recall_score , accuracy_score\n",
    "import pandas as pd\n",
    "import numpy as np\n",
    "from sklearn.model_selection import train_test_split\n",
    "\n",
    "\n",
    "data = pd.read_csv('final_data/TrainFinal.csv', delimiter = ',').reset_index(drop=True)\n",
    "data.shape"
   ]
  },
  {
   "cell_type": "code",
   "execution_count": 35,
   "metadata": {},
   "outputs": [],
   "source": [
    "# data"
   ]
  },
  {
   "cell_type": "code",
   "execution_count": 36,
   "metadata": {},
   "outputs": [],
   "source": [
    "category_list = [\n",
    " 'Text_gnd_cd',\n",
    " 'Text_th_flg',\n",
    " 'Text_mar_st_cd',\n",
    " 'Text_ocp_cd',\n",
    " 'Text_idv_incm_seg_cd',\n",
    " 'Text_fam_incm_seg_cd',\n",
    " 'Text_IsAccAgeMoreThanCusAge',\n",
    " 'Text_Mode_mbl_svc_opr'\n",
    "]"
   ]
  },
  {
   "cell_type": "code",
   "execution_count": 37,
   "metadata": {},
   "outputs": [
    {
     "name": "stdout",
     "output_type": "stream",
     "text": [
      "2 Text_gnd_cd\n",
      "2 Text_th_flg\n",
      "4 Text_mar_st_cd\n",
      "13 Text_ocp_cd\n",
      "15 Text_idv_incm_seg_cd\n",
      "7 Text_fam_incm_seg_cd\n",
      "2 Text_IsAccAgeMoreThanCusAge\n",
      "9 Text_Mode_mbl_svc_opr\n"
     ]
    }
   ],
   "source": [
    "for i in category_list:\n",
    "    print(len(data[i].unique()),i)"
   ]
  },
  {
   "cell_type": "code",
   "execution_count": 38,
   "metadata": {},
   "outputs": [
    {
     "data": {
      "text/plain": [
       "(49995, 619)"
      ]
     },
     "execution_count": 38,
     "metadata": {},
     "output_type": "execute_result"
    }
   ],
   "source": [
    "data_ans = pd.read_csv('final_data/TestFinal.csv', delimiter = ',')\n",
    "data_ans.shape"
   ]
  },
  {
   "cell_type": "code",
   "execution_count": 39,
   "metadata": {},
   "outputs": [],
   "source": [
    "data[category_list] = data[category_list].fillna('none')\n",
    "data_ans[category_list] = data_ans[category_list].fillna('none')\n",
    "data = data.fillna(0)\n",
    "data_ans = data_ans.fillna(0)\n",
    "data[category_list] = data[category_list].astype('str')\n",
    "data_ans[category_list] = data_ans[category_list].astype('str')"
   ]
  },
  {
   "cell_type": "code",
   "execution_count": 40,
   "metadata": {},
   "outputs": [],
   "source": [
    "list_target = [\n",
    " 'TargetEndIsLogIn',\n",
    " 'TargetEndIsTrxInq',\n",
    " 'TargetEndIsBillPayment',\n",
    " 'TargetEndFundTR',\n",
    " 'TargetEndORFT',\n",
    "'TargetDayIsLogin',\n",
    " 'TargetDayIsTrxInq',\n",
    " 'TargetDayBillPayment',\n",
    " 'TargetDayFundTR',\n",
    " 'TargetDayORFT',\n",
    " \n",
    "]"
   ]
  },
  {
   "cell_type": "code",
   "execution_count": 41,
   "metadata": {},
   "outputs": [],
   "source": [
    "data_x = data.drop(list_target, axis=1)\n",
    "x = data_x.copy()\n",
    "feature_name = list(data_x)\n",
    "# list_target = []\n",
    "y = data[list_target]"
   ]
  },
  {
   "cell_type": "code",
   "execution_count": 42,
   "metadata": {},
   "outputs": [],
   "source": [
    "def add_noise(series, noise_level):\n",
    "    return series * (1 + noise_level * np.random.randn(len(series)))\n",
    "\n",
    "def target_encode(trn_series=None, \n",
    "                  tst_series=None, \n",
    "                  target=None, \n",
    "                  min_samples_leaf=0, \n",
    "                  smoothing=1,\n",
    "                  noise_level=0):\n",
    "    \"\"\"\n",
    "    Smoothing is computed like in the following paper by Daniele Micci-Barreca\n",
    "    https://kaggle2.blob.core.windows.net/forum-message-attachments/225952/7441/high%20cardinality%20categoricals.pdf\n",
    "    trn_series : training categorical feature as a pd.Series\n",
    "    tst_series : test categorical feature as a pd.Series\n",
    "    target : target data as a pd.Series\n",
    "    min_samples_leaf (int) : minimum samples to take category average into account\n",
    "    smoothing (int) : smoothing effect to balance categorical average vs prior  \n",
    "    \"\"\" \n",
    "    assert len(trn_series) == len(target)\n",
    "    assert trn_series.name == tst_series.name\n",
    "    temp = pd.concat([trn_series, target], axis=1)\n",
    "    # Compute target mean \n",
    "    averages = temp.groupby(by=trn_series.name)[target.name].agg([\"mean\", \"count\"])\n",
    "    # Compute smoothing\n",
    "    smoothing = 1 / (1 + np.exp(-(averages[\"count\"] - min_samples_leaf) / smoothing))\n",
    "    # Apply average function to all target data\n",
    "    prior = target.mean()\n",
    "    # The bigger the count the less full_avg is taken into account\n",
    "    averages[target.name] = prior * (1 - smoothing) + averages[\"mean\"] * smoothing\n",
    "    averages.drop([\"mean\", \"count\"], axis=1, inplace=True)\n",
    "    # Apply averages to trn and tst series\n",
    "    ft_trn_series = pd.merge(\n",
    "        trn_series.to_frame(trn_series.name),\n",
    "        averages.reset_index().rename(columns={'index': target.name, target.name: 'average'}),\n",
    "        on=trn_series.name,\n",
    "        how='left')['average'].rename(trn_series.name + '_mean').fillna(prior)\n",
    "    # pd.merge does not keep the index so restore it\n",
    "    ft_trn_series.index = trn_series.index \n",
    "    ft_tst_series = pd.merge(\n",
    "        tst_series.to_frame(tst_series.name),\n",
    "        averages.reset_index().rename(columns={'index': target.name, target.name: 'average'}),\n",
    "        on=tst_series.name,\n",
    "        how='left')['average'].rename(trn_series.name + '_mean').fillna(prior)\n",
    "    # pd.merge does not keep the index so restore it\n",
    "    ft_tst_series.index = tst_series.index\n",
    "    return add_noise(ft_trn_series, noise_level), add_noise(ft_tst_series, noise_level)"
   ]
  },
  {
   "cell_type": "code",
   "execution_count": 43,
   "metadata": {},
   "outputs": [],
   "source": [
    "x_ans = data_ans[list(x)]"
   ]
  },
  {
   "cell_type": "code",
   "execution_count": 44,
   "metadata": {},
   "outputs": [
    {
     "name": "stdout",
     "output_type": "stream",
     "text": [
      "(99990, 615)\n"
     ]
    },
    {
     "data": {
      "text/plain": [
       "['Text_gnd_cd',\n",
       " 'Text_th_flg',\n",
       " 'Text_mar_st_cd',\n",
       " 'Text_ocp_cd',\n",
       " 'Text_idv_incm_seg_cd',\n",
       " 'Text_fam_incm_seg_cd',\n",
       " 'Text_IsAccAgeMoreThanCusAge',\n",
       " 'Text_Mode_mbl_svc_opr']"
      ]
     },
     "execution_count": 44,
     "metadata": {},
     "output_type": "execute_result"
    }
   ],
   "source": [
    "df_combine=pd.concat([x,x_ans],ignore_index=True)\n",
    "print(df_combine.shape)\n",
    "#Find One_hot features that unique count <15\n",
    "one_hot = df_combine[list(category_list)].nunique().reset_index()\n",
    "one_hot.columns = ['features','unique_count']\n",
    "one_hot = one_hot.loc[one_hot['unique_count'] < 16,\"features\"]\n",
    "one_hot = list(one_hot)\n",
    "one_hot"
   ]
  },
  {
   "cell_type": "code",
   "execution_count": 45,
   "metadata": {},
   "outputs": [
    {
     "name": "stdout",
     "output_type": "stream",
     "text": [
      "Process feature =====>Text_gnd_cd\n",
      "(99990, 2)\n",
      "(99990, 616)\n",
      "Process feature =====>Text_th_flg\n",
      "(99990, 2)\n",
      "(99990, 617)\n",
      "Process feature =====>Text_mar_st_cd\n",
      "(99990, 4)\n",
      "(99990, 620)\n",
      "Process feature =====>Text_ocp_cd\n",
      "(99990, 13)\n",
      "(99990, 632)\n",
      "Process feature =====>Text_idv_incm_seg_cd\n",
      "(99990, 15)\n",
      "(99990, 646)\n",
      "Process feature =====>Text_fam_incm_seg_cd\n",
      "(99990, 7)\n",
      "(99990, 652)\n",
      "Process feature =====>Text_IsAccAgeMoreThanCusAge\n",
      "(99990, 2)\n",
      "(99990, 653)\n",
      "Process feature =====>Text_Mode_mbl_svc_opr\n",
      "(99990, 9)\n",
      "(99990, 661)\n",
      "(49995, 661)\n",
      "(49995, 661)\n"
     ]
    }
   ],
   "source": [
    "for i in one_hot:\n",
    "    category_list.remove(i)\n",
    "for i in one_hot:\n",
    "    print(\"Process feature =====>\"+str(i))\n",
    "    df_combine[\"one_hot_feature\"] = df_combine[i]\n",
    "    df_combine[\"one_hot_feature\"] =  str(i) + \".\" + df_combine[\"one_hot_feature\"].astype('str')\n",
    "    one_hot_combine = pd.get_dummies(df_combine[\"one_hot_feature\"])\n",
    "    print(one_hot_combine.shape)\n",
    "    df_combine = df_combine.join(one_hot_combine)\n",
    "    del df_combine[\"one_hot_feature\"]\n",
    "    del df_combine[i]\n",
    "    del one_hot_combine\n",
    "    print(df_combine.shape)\n",
    "x = df_combine[:len(x)]\n",
    "print(x.shape)\n",
    "x_ans = df_combine[len(x):]\n",
    "print(x_ans.shape)\n",
    "del df_combine"
   ]
  },
  {
   "cell_type": "code",
   "execution_count": 46,
   "metadata": {},
   "outputs": [
    {
     "data": {
      "text/plain": [
       "[]"
      ]
     },
     "execution_count": 46,
     "metadata": {},
     "output_type": "execute_result"
    }
   ],
   "source": [
    "category_list"
   ]
  },
  {
   "cell_type": "code",
   "execution_count": 190,
   "metadata": {},
   "outputs": [],
   "source": [
    "# x.values[0,:]"
   ]
  },
  {
   "cell_type": "code",
   "execution_count": 152,
   "metadata": {},
   "outputs": [
    {
     "name": "stdout",
     "output_type": "stream",
     "text": [
      "(49995, 635) (49995, 10) (49995, 635)\n"
     ]
    }
   ],
   "source": [
    "print(x.shape,y.shape,x_ans.shape)"
   ]
  },
  {
   "cell_type": "code",
   "execution_count": null,
   "metadata": {},
   "outputs": [],
   "source": [
    "from sklearn.model_selection import train_test_split\n",
    "# x, x_stack, y, y_stack = train_test_split(x, y, test_size=0.2, random_state=42)\n",
    "x_train, x_val, y_train, y_val = train_test_split(x, y, test_size=0.25, random_state=42)"
   ]
  },
  {
   "cell_type": "code",
   "execution_count": 256,
   "metadata": {},
   "outputs": [],
   "source": []
  },
  {
   "cell_type": "code",
   "execution_count": 262,
   "metadata": {},
   "outputs": [],
   "source": []
  },
  {
   "cell_type": "code",
   "execution_count": null,
   "metadata": {},
   "outputs": [],
   "source": [
    "import xgboost as xgb\n",
    "dtrain = xgb.DMatrix(x_train, label=y_train)\n",
    "dx_val = xgb.DMatrix(x_val, label=y_test)\n",
    "dy_val = xgb.DMatrix(y_val, label=y_train)\n",
    "evallist = [(dv0, 'eval'), (dsm, 'train')]\n",
    "                  \n",
    "dsm = xgb.DMatrix(x_sm, label=y_sm)                  \n",
    "evallist = [(dt, 'eval'), (dsm, 'train')]\n",
    "                  \n",
    "num_round = 10000\n",
    "# binary:logistic\n",
    "param = {'objective': 'binary:logistic',\n",
    " 'colsample_bytree': 0.9683760122352089,\n",
    " 'gamma': 0.7790711924812199,\n",
    " 'learning_rate': 0.2249426498504554,\n",
    " 'max_depth': 20,\n",
    " 'min_child_weight': 10.95324500379702,\n",
    " 'n_estimators': 150,\n",
    " 'objective': 'binary:logistic',\n",
    " 'scale_pos_weight': 1,\n",
    " 'seed': 42,\n",
    " 'eval_metric': ['auc'],\n",
    " 'lambda': 2,\n",
    " 'alpha': 15,\n",
    "#  'rate_drop':0.5,\n",
    " 'tree_method':'exact',\n",
    " 'normalize_type':'forest',\n",
    " 'subsample': 0.9035691355661921}\n",
    " \n",
    "evals_result = {}\n"
   ]
  },
  {
   "cell_type": "code",
   "execution_count": null,
   "metadata": {},
   "outputs": [],
   "source": [
    "from sklearn.model_selection import StratifiedKFold\n",
    "from lightgbm.sklearn import LGBMRegressor\n",
    "from sklearn.linear_model import ElasticNetCV\n",
    "\n",
    "import scipy.stats as st\n",
    "from sklearn.model_selection import RandomizedSearchCV , GridSearchCV\n",
    "\n",
    "\n",
    "lgb_params = {\"objective\" : \"binary\", \"metric\" : \"auc\",\n",
    "              \"num_leaves\" : 50, \"learning_rate\" : 0.032, \n",
    "              \"bagging_fraction\" : 0.75, \"feature_fraction\" : 0.8, \"bagging_frequency\" : 9, 'use_best_model':True}\n",
    "\n",
    "k=1\n",
    "splits=5\n",
    "avg_score=0\n",
    "\n",
    "# x_for_train = x_stack.copy()\n",
    "# x_ans_train = x_ans_stack.copy()\n",
    "\n",
    "x_for_train = pd.concat([x, x_stack], axis=1, sort=False)\n",
    "x_ans_train = x_ans.reset_index(drop=True).join(x_ans_stack)\n",
    "# x_ans_train = pd.concat([x_ans, x_ans_stack], axis=1, sort=False)\n",
    "\n",
    "# x_for_train = x.copy() \n",
    "# x_ans_train = x_ans.copy()\n",
    "# select_feature = list(x_for_train)\n",
    "# select_feature = feature_name\n",
    "x_for_train = x_for_train[select_feature]\n",
    "x_ans_train = x_ans_train[select_feature]\n",
    "x_f = x_for_train.values\n",
    "\n",
    "skf = StratifiedKFold(n_splits=splits, shuffle=True, random_state=200)\n",
    "skf.get_n_splits(x_f)\n",
    "print('\\nStarting KFold iterations...')\n",
    "importances = pd.DataFrame()\n",
    "# x_stack = x_for_train.copy()\n",
    "# x_stack['y_lgb'] = 0\n",
    "\n",
    "for train_index,test_index in skf.split(x_f,y_kf):\n",
    "\n",
    "    model = LGBMClassifier(**lgb_params)\n",
    "    df_X=x_f[train_index,:]\n",
    "    df_y=y[train_index]\n",
    "    val_X=x_f[test_index,:]\n",
    "    val_y=y[test_index]\n",
    "    \n",
    "    model.fit(df_X,df_y)\n",
    "    preds_x=pd.Series(model.predict(val_X))\n",
    "#     acc= score1(val_y,preds_x)\n",
    "    threshold , acc , preds_x = best_threshold(val_y,preds_x)\n",
    "    print('Iteration:',k,'  rmse:',acc)\n",
    "    \n",
    "    if k==1:\n",
    "        score=acc\n",
    "        model1=model\n",
    "        preds1=pd.Series(model.predict(x_ans_train.values))\n",
    "        preds = preds1\n",
    "        sv = preds.copy()\n",
    "        \n",
    "    else:\n",
    "        preds1=pd.Series(model.predict(x_ans_train.values))\n",
    "        preds=preds+preds1\n",
    "        if score>acc:\n",
    "            score=acc\n",
    "            model1=model\n",
    "            sv = preds1.copy()\n",
    "\n",
    "            \n",
    "    imp_df = pd.DataFrame()\n",
    "    imp_df['feature'] = np.asarray(select_feature)\n",
    "    imp_df['gain'] = model.feature_importances_\n",
    "#     imp_df['gain'] = model.coef_\n",
    "    imp_df['fold'] = k\n",
    "    importances = pd.concat([importances, imp_df], axis=0, sort=False)\n",
    "    \n",
    "    avg_score=avg_score+acc        \n",
    "    k=k+1\n",
    "print('\\n Best score:',score,' Avg Score:',avg_score/splits)\n",
    "preds=preds/splits"
   ]
  },
  {
   "cell_type": "code",
   "execution_count": null,
   "metadata": {},
   "outputs": [],
   "source": [
    "\n",
    "\n",
    "\n",
    "# sm = SMOTETomek(random_state=42)\n",
    "# sm = ADASYN(random_state=42)\n",
    "# sm.fit(x)\n",
    "# x_sm, y_sm = sm.fit_sample(x_train, y_train)\n",
    "\n",
    "\n",
    "print(x.shape,y.shape)"
   ]
  },
  {
   "cell_type": "code",
   "execution_count": 14,
   "metadata": {},
   "outputs": [
    {
     "data": {
      "text/plain": [
       "TargetEndIsLogIn          0.633203\n",
       "TargetEndIsTrxInq         0.505491\n",
       "TargetEndIsBillPayment    0.239064\n",
       "TargetEndFundTR           0.395920\n",
       "TargetEndORFT             0.037904\n",
       "TargetDayIsLogin          0.676348\n",
       "TargetDayIsTrxInq         0.561636\n",
       "TargetDayBillPayment      0.281728\n",
       "TargetDayFundTR           0.458726\n",
       "TargetDayORFT             0.046445\n",
       "dtype: float64"
      ]
     },
     "execution_count": 14,
     "metadata": {},
     "output_type": "execute_result"
    }
   ],
   "source": [
    "y.mean()"
   ]
  },
  {
   "cell_type": "code",
   "execution_count": 54,
   "metadata": {},
   "outputs": [],
   "source": [
    "from sklearn.model_selection import StratifiedKFold\n",
    "from lightgbm.sklearn import LGBMClassifier\n",
    "from sklearn.linear_model import ElasticNetCV\n",
    "from xgboost import XGBClassifier\n",
    "from imblearn.over_sampling import SMOTE, ADASYN \n",
    "from imblearn.combine import SMOTEENN ,SMOTETomek\n",
    "from xgboost import XGBClassifier\n",
    "import scipy.stats as st\n",
    "from sklearn.model_selection import RandomizedSearchCV , GridSearchCV\n",
    "from sklearn import preprocessing\n",
    "from sklearn.linear_model import LogisticRegression , ElasticNetCV\n",
    "from sklearn.ensemble import RandomForestClassifier\n",
    "from sklearn.decomposition import PCA , NMF\n",
    "from imblearn.under_sampling import ClusterCentroids, EditedNearestNeighbours , TomekLinks\n",
    "# pca = PCA(n_components=n_components, svd_solver='full',random_state=42)\n",
    "# pca = NMF(n_components=n_components, init='random',random_state=42)\n",
    "# pca.fit(x)\n",
    "# x = pca.transform(x)\n",
    "# x_ans = pca.transform(x_ans)\n",
    "\n",
    "test = 0\n",
    "def train_predict(x_f,y_kf,x_ans_train,y_name,params,splits,skf):\n",
    "    k=1\n",
    "#     splits=5\n",
    "    avg_score=0\n",
    "    tres = 0\n",
    "    x_ans_train = x_ans_train.values\n",
    "#     scaler = preprocessing.MinMaxScaler()\n",
    "#     scaler.fit(x_f)\n",
    "#     x_f = scaler.transform(x_f)\n",
    "#     x_ans_train = scaler.transform(x_ans_train)\n",
    "#     sm = SMOTEENN(random_state=42)\n",
    "#     sm = ADASYN(random_state=42)\n",
    "#     x_f, y_kf = sm.fit_sample(x_f, y_kf)\n",
    "#     x_train_pre = pd.DataFrame()\n",
    "#     x_train_pre['y_lgb'] = np.zeros(x_f.shape[0])\n",
    "    x_train_pre = pd.DataFrame({'x_pre':np.zeros(x_f.shape[0])})\n",
    "    print('\\nStarting KFold iterations... for : '+y_name)\n",
    "    importances = pd.DataFrame()\n",
    "    pca = PCA(n_components=150, svd_solver='full',random_state=42)\n",
    "    pca.fit(x_f)\n",
    "    x_f = pca.transform(x_f)\n",
    "    x_ans_train = pca.transform(x_ans_train)\n",
    "#         sm = SMOTEENN(random_state=42)\n",
    "    for train_index,test_index in skf.split(x_f,y_kf):\n",
    "#         model = XGBClassifier(**params)\n",
    "        model = LGBMClassifier(**params)\n",
    "#         model = ElasticNetCV(cv=5, random_state=0,l1_ratio=[0.05,.1,0.15,.2, .5, .9,0.95, 1],n_jobs=-1\n",
    "#                                  ,normalize=False, positive=False)\n",
    "        estimator = RandomForestClassifier()\n",
    "        params = {\n",
    "            \"max_depth\": [1, 2, 3,5,10,20,30,40,50,100, None],\n",
    "            \"max_features\": st.randint(1, 300),\n",
    "        #     \"max_features\": [\"log2\"],\n",
    "            \"min_samples_split\": st.randint(2, 10),\n",
    "        #     \"min_samples_leaf\": st.randint(1, n_features),\n",
    "        #     \"bootstrap\": [True, False],\n",
    "            \"criterion\": [\"gini\", \"entropy\"],\n",
    "            'oob_score': [True, False],\n",
    "            'random_state': [242],\n",
    "            'warm_start' : [True],\n",
    "        }\n",
    "        rnf = RandomizedSearchCV(estimator, params, cv=5,n_jobs=-1, n_iter=10, scoring = 'roc_auc') \n",
    "#         model = rnf\n",
    "#         print(train_index)\n",
    "        df_X=x_f[train_index]\n",
    "        df_y=y_kf[train_index]\n",
    "        val_X=x_f[test_index]\n",
    "        val_y=y_kf[test_index]\n",
    "#         cc = ClusterCentroids(random_state=42)\n",
    "#         enn = EditedNearestNeighbours()\n",
    "#         df_X, df_y = enn.fit_sample(df_X, df_y)\n",
    "        \n",
    "#         sm = ADASYN(random_state=42)\n",
    "#         sm = SMOTE(random_state=42,k_neighbors = 40,m_neighbors=40 ,n_jobs = -1)\n",
    "#         df_X, df_y = sm.fit_sample(df_X, df_y)\n",
    "        model.fit(df_X,df_y)\n",
    "        preds_x=pd.Series(model.predict(val_X))\n",
    "        threshold_i , acc , x_01_i = best_threshold(val_y,preds_x)\n",
    "        print('Iteration:',k,'  acc:',acc)\n",
    "        x_train_pre['x_pre'][test_index] = preds_x \n",
    "        if k==1:\n",
    "            score=acc\n",
    "            model1=model\n",
    "            preds1=pd.Series(model.predict(x_ans_train))\n",
    "            preds = preds1\n",
    "#             sv = preds.copy()\n",
    "\n",
    "        else:\n",
    "            preds1=pd.Series(model.predict(x_ans_train))\n",
    "            preds=preds+preds1\n",
    "            if score>acc:\n",
    "                score=acc\n",
    "                model1=model\n",
    "#                 sv = preds1.copy()\n",
    "\n",
    "\n",
    "        imp_df = pd.DataFrame()\n",
    "#         imp_df['feature'] = np.asarray(select_feature)\n",
    "#         imp_df['gain'] = model.feature_importances_\n",
    "#         imp_df['fold'] = k\n",
    "#         importances = pd.concat([importances, imp_df], axis=0, sort=False)\n",
    "\n",
    "        avg_score=avg_score+acc        \n",
    "#         tres = tres + threshold\n",
    "        k=k+1\n",
    "    \n",
    "    x_train_pre = x_train_pre.values\n",
    "    tres , acc , x_01 = best_threshold(y_kf,x_train_pre)\n",
    "    print('\\n Best score:',score,' Avg Score:',avg_score/splits,' acc all:',acc)\n",
    "#     tres = tres/splits\n",
    "    preds=preds/splits\n",
    "    preds = preds > tres\n",
    "    preds = preds.astype(int)\n",
    "    return preds , importances , x_train_pre"
   ]
  },
  {
   "cell_type": "code",
   "execution_count": 48,
   "metadata": {},
   "outputs": [],
   "source": [
    "from sklearn.metrics import mean_absolute_error , mean_squared_error , recall_score , accuracy_score , roc_curve , auc , classification_report,fbeta_score\n",
    "def score1(y_true,y_pre,thresholds = 0.5):\n",
    "    acc = accuracy_score(y_true, y_pre)\n",
    "    return acc\n",
    "def best_threshold(y_true,y_pre):\n",
    "    thresholds = np.arange(0, 1, 0.005)\n",
    "    best = 0.5\n",
    "    acc = 0\n",
    "    k = 0\n",
    "    x_01 = y_pre\n",
    "    for i in thresholds:\n",
    "        y_pre_i  = y_pre > i\n",
    "        y_pre_i = y_pre_i.astype(int)\n",
    "        acc_i = score1(y_true,y_pre_i)\n",
    "        if acc < acc_i:\n",
    "            best = i\n",
    "            acc = acc_i\n",
    "            x_01 = y_pre_i\n",
    "    return best , acc , x_01\n",
    "#         print('test:',score1(val_y,test),\", i = \",i)"
   ]
  },
  {
   "cell_type": "code",
   "execution_count": 49,
   "metadata": {},
   "outputs": [],
   "source": [
    "# category_list.remove('Text_gnd_cd')"
   ]
  },
  {
   "cell_type": "code",
   "execution_count": 50,
   "metadata": {},
   "outputs": [],
   "source": [
    "# list(x)"
   ]
  },
  {
   "cell_type": "code",
   "execution_count": 56,
   "metadata": {
    "scrolled": true
   },
   "outputs": [
    {
     "name": "stdout",
     "output_type": "stream",
     "text": [
      "\n",
      "Starting KFold iterations... for : TargetEndIsLogIn\n"
     ]
    },
    {
     "name": "stderr",
     "output_type": "stream",
     "text": [
      "C:\\Users\\EBM_IT_01\\Anaconda3\\lib\\site-packages\\sklearn\\preprocessing\\label.py:151: DeprecationWarning: The truth value of an empty array is ambiguous. Returning False, but in future this will result in an error. Use `array.size > 0` to check that an array is not empty.\n",
      "  if diff:\n"
     ]
    },
    {
     "name": "stdout",
     "output_type": "stream",
     "text": [
      "Iteration: 1   acc: 0.8524\n"
     ]
    },
    {
     "name": "stderr",
     "output_type": "stream",
     "text": [
      "C:\\Users\\EBM_IT_01\\Anaconda3\\lib\\site-packages\\sklearn\\preprocessing\\label.py:151: DeprecationWarning: The truth value of an empty array is ambiguous. Returning False, but in future this will result in an error. Use `array.size > 0` to check that an array is not empty.\n",
      "  if diff:\n"
     ]
    },
    {
     "ename": "TypeError",
     "evalue": "Unknown type of parameter:max_features, got:rv_frozen",
     "output_type": "error",
     "traceback": [
      "\u001b[1;31m---------------------------------------------------------------------------\u001b[0m",
      "\u001b[1;31mTypeError\u001b[0m                                 Traceback (most recent call last)",
      "\u001b[1;32m<ipython-input-56-5f9fcb5830f8>\u001b[0m in \u001b[0;36m<module>\u001b[1;34m()\u001b[0m\n\u001b[0;32m     60\u001b[0m \u001b[1;31m#               \"num_leaves\" : 50, \"learning_rate\" : 0.032,\u001b[0m\u001b[1;33m\u001b[0m\u001b[1;33m\u001b[0m\u001b[0m\n\u001b[0;32m     61\u001b[0m \u001b[1;31m#               \"bagging_fraction\" : 0.75, \"feature_fraction\" : 0.8, \"bagging_frequency\" : 9, 'use_best_model':True}\u001b[0m\u001b[1;33m\u001b[0m\u001b[1;33m\u001b[0m\u001b[0m\n\u001b[1;32m---> 62\u001b[1;33m     \u001b[0mpreds\u001b[0m \u001b[1;33m,\u001b[0m \u001b[0mimportances\u001b[0m \u001b[1;33m,\u001b[0m \u001b[0mx_stack\u001b[0m \u001b[1;33m=\u001b[0m \u001b[0mtrain_predict\u001b[0m\u001b[1;33m(\u001b[0m\u001b[0mx_f\u001b[0m\u001b[1;33m,\u001b[0m\u001b[0my_kf\u001b[0m\u001b[1;33m,\u001b[0m\u001b[0mx_ans_train\u001b[0m\u001b[1;33m,\u001b[0m\u001b[0mi\u001b[0m\u001b[1;33m,\u001b[0m\u001b[0mlgb_params\u001b[0m\u001b[1;33m,\u001b[0m\u001b[0msplits\u001b[0m\u001b[1;33m,\u001b[0m\u001b[0mskf\u001b[0m\u001b[1;33m)\u001b[0m\u001b[1;33m\u001b[0m\u001b[0m\n\u001b[0m\u001b[0;32m     63\u001b[0m     \u001b[0mlist_importances\u001b[0m \u001b[1;33m=\u001b[0m \u001b[0mlist_importances\u001b[0m\u001b[1;33m+\u001b[0m\u001b[1;33m[\u001b[0m\u001b[0mimportances\u001b[0m\u001b[1;33m]\u001b[0m\u001b[1;33m\u001b[0m\u001b[0m\n\u001b[0;32m     64\u001b[0m     \u001b[0mx_stack_list\u001b[0m\u001b[1;33m[\u001b[0m\u001b[0mi\u001b[0m\u001b[1;33m]\u001b[0m \u001b[1;33m=\u001b[0m \u001b[0mx_stack\u001b[0m\u001b[1;33m\u001b[0m\u001b[0m\n",
      "\u001b[1;32m<ipython-input-54-29b6f266685e>\u001b[0m in \u001b[0;36mtrain_predict\u001b[1;34m(x_f, y_kf, x_ans_train, y_name, params, splits, skf)\u001b[0m\n\u001b[0;32m     75\u001b[0m \u001b[1;31m#         sm = SMOTE(random_state=42,k_neighbors = 40,m_neighbors=40 ,n_jobs = -1)\u001b[0m\u001b[1;33m\u001b[0m\u001b[1;33m\u001b[0m\u001b[0m\n\u001b[0;32m     76\u001b[0m \u001b[1;31m#         df_X, df_y = sm.fit_sample(df_X, df_y)\u001b[0m\u001b[1;33m\u001b[0m\u001b[1;33m\u001b[0m\u001b[0m\n\u001b[1;32m---> 77\u001b[1;33m         \u001b[0mmodel\u001b[0m\u001b[1;33m.\u001b[0m\u001b[0mfit\u001b[0m\u001b[1;33m(\u001b[0m\u001b[0mdf_X\u001b[0m\u001b[1;33m,\u001b[0m\u001b[0mdf_y\u001b[0m\u001b[1;33m)\u001b[0m\u001b[1;33m\u001b[0m\u001b[0m\n\u001b[0m\u001b[0;32m     78\u001b[0m         \u001b[0mpreds_x\u001b[0m\u001b[1;33m=\u001b[0m\u001b[0mpd\u001b[0m\u001b[1;33m.\u001b[0m\u001b[0mSeries\u001b[0m\u001b[1;33m(\u001b[0m\u001b[0mmodel\u001b[0m\u001b[1;33m.\u001b[0m\u001b[0mpredict\u001b[0m\u001b[1;33m(\u001b[0m\u001b[0mval_X\u001b[0m\u001b[1;33m)\u001b[0m\u001b[1;33m)\u001b[0m\u001b[1;33m\u001b[0m\u001b[0m\n\u001b[0;32m     79\u001b[0m         \u001b[0mthreshold_i\u001b[0m \u001b[1;33m,\u001b[0m \u001b[0macc\u001b[0m \u001b[1;33m,\u001b[0m \u001b[0mx_01_i\u001b[0m \u001b[1;33m=\u001b[0m \u001b[0mbest_threshold\u001b[0m\u001b[1;33m(\u001b[0m\u001b[0mval_y\u001b[0m\u001b[1;33m,\u001b[0m\u001b[0mpreds_x\u001b[0m\u001b[1;33m)\u001b[0m\u001b[1;33m\u001b[0m\u001b[0m\n",
      "\u001b[1;32m~\\Anaconda3\\lib\\site-packages\\lightgbm\\sklearn.py\u001b[0m in \u001b[0;36mfit\u001b[1;34m(self, X, y, sample_weight, init_score, eval_set, eval_names, eval_sample_weight, eval_class_weight, eval_init_score, eval_metric, early_stopping_rounds, verbose, feature_name, categorical_feature, callbacks)\u001b[0m\n\u001b[0;32m    724\u001b[0m                                         \u001b[0mverbose\u001b[0m\u001b[1;33m=\u001b[0m\u001b[0mverbose\u001b[0m\u001b[1;33m,\u001b[0m \u001b[0mfeature_name\u001b[0m\u001b[1;33m=\u001b[0m\u001b[0mfeature_name\u001b[0m\u001b[1;33m,\u001b[0m\u001b[1;33m\u001b[0m\u001b[0m\n\u001b[0;32m    725\u001b[0m                                         \u001b[0mcategorical_feature\u001b[0m\u001b[1;33m=\u001b[0m\u001b[0mcategorical_feature\u001b[0m\u001b[1;33m,\u001b[0m\u001b[1;33m\u001b[0m\u001b[0m\n\u001b[1;32m--> 726\u001b[1;33m                                         callbacks=callbacks)\n\u001b[0m\u001b[0;32m    727\u001b[0m         \u001b[1;32mreturn\u001b[0m \u001b[0mself\u001b[0m\u001b[1;33m\u001b[0m\u001b[0m\n\u001b[0;32m    728\u001b[0m \u001b[1;33m\u001b[0m\u001b[0m\n",
      "\u001b[1;32m~\\Anaconda3\\lib\\site-packages\\lightgbm\\sklearn.py\u001b[0m in \u001b[0;36mfit\u001b[1;34m(self, X, y, sample_weight, init_score, group, eval_set, eval_names, eval_sample_weight, eval_class_weight, eval_init_score, eval_group, eval_metric, early_stopping_rounds, verbose, feature_name, categorical_feature, callbacks)\u001b[0m\n\u001b[0;32m    497\u001b[0m                               \u001b[0mverbose_eval\u001b[0m\u001b[1;33m=\u001b[0m\u001b[0mverbose\u001b[0m\u001b[1;33m,\u001b[0m \u001b[0mfeature_name\u001b[0m\u001b[1;33m=\u001b[0m\u001b[0mfeature_name\u001b[0m\u001b[1;33m,\u001b[0m\u001b[1;33m\u001b[0m\u001b[0m\n\u001b[0;32m    498\u001b[0m                               \u001b[0mcategorical_feature\u001b[0m\u001b[1;33m=\u001b[0m\u001b[0mcategorical_feature\u001b[0m\u001b[1;33m,\u001b[0m\u001b[1;33m\u001b[0m\u001b[0m\n\u001b[1;32m--> 499\u001b[1;33m                               callbacks=callbacks)\n\u001b[0m\u001b[0;32m    500\u001b[0m \u001b[1;33m\u001b[0m\u001b[0m\n\u001b[0;32m    501\u001b[0m         \u001b[1;32mif\u001b[0m \u001b[0mevals_result\u001b[0m\u001b[1;33m:\u001b[0m\u001b[1;33m\u001b[0m\u001b[0m\n",
      "\u001b[1;32m~\\Anaconda3\\lib\\site-packages\\lightgbm\\engine.py\u001b[0m in \u001b[0;36mtrain\u001b[1;34m(params, train_set, num_boost_round, valid_sets, valid_names, fobj, feval, init_model, feature_name, categorical_feature, early_stopping_rounds, evals_result, verbose_eval, learning_rates, keep_training_booster, callbacks)\u001b[0m\n\u001b[0;32m    185\u001b[0m     \u001b[1;31m# construct booster\u001b[0m\u001b[1;33m\u001b[0m\u001b[1;33m\u001b[0m\u001b[0m\n\u001b[0;32m    186\u001b[0m     \u001b[1;32mtry\u001b[0m\u001b[1;33m:\u001b[0m\u001b[1;33m\u001b[0m\u001b[0m\n\u001b[1;32m--> 187\u001b[1;33m         \u001b[0mbooster\u001b[0m \u001b[1;33m=\u001b[0m \u001b[0mBooster\u001b[0m\u001b[1;33m(\u001b[0m\u001b[0mparams\u001b[0m\u001b[1;33m=\u001b[0m\u001b[0mparams\u001b[0m\u001b[1;33m,\u001b[0m \u001b[0mtrain_set\u001b[0m\u001b[1;33m=\u001b[0m\u001b[0mtrain_set\u001b[0m\u001b[1;33m)\u001b[0m\u001b[1;33m\u001b[0m\u001b[0m\n\u001b[0m\u001b[0;32m    188\u001b[0m         \u001b[1;32mif\u001b[0m \u001b[0mis_valid_contain_train\u001b[0m\u001b[1;33m:\u001b[0m\u001b[1;33m\u001b[0m\u001b[0m\n\u001b[0;32m    189\u001b[0m             \u001b[0mbooster\u001b[0m\u001b[1;33m.\u001b[0m\u001b[0mset_train_data_name\u001b[0m\u001b[1;33m(\u001b[0m\u001b[0mtrain_data_name\u001b[0m\u001b[1;33m)\u001b[0m\u001b[1;33m\u001b[0m\u001b[0m\n",
      "\u001b[1;32m~\\Anaconda3\\lib\\site-packages\\lightgbm\\basic.py\u001b[0m in \u001b[0;36m__init__\u001b[1;34m(self, params, train_set, model_file, silent)\u001b[0m\n\u001b[0;32m   1447\u001b[0m             \u001b[1;32mif\u001b[0m \u001b[1;32mnot\u001b[0m \u001b[0misinstance\u001b[0m\u001b[1;33m(\u001b[0m\u001b[0mtrain_set\u001b[0m\u001b[1;33m,\u001b[0m \u001b[0mDataset\u001b[0m\u001b[1;33m)\u001b[0m\u001b[1;33m:\u001b[0m\u001b[1;33m\u001b[0m\u001b[0m\n\u001b[0;32m   1448\u001b[0m                 \u001b[1;32mraise\u001b[0m \u001b[0mTypeError\u001b[0m\u001b[1;33m(\u001b[0m\u001b[1;34m'Training data should be Dataset instance, met {}'\u001b[0m\u001b[1;33m.\u001b[0m\u001b[0mformat\u001b[0m\u001b[1;33m(\u001b[0m\u001b[0mtype\u001b[0m\u001b[1;33m(\u001b[0m\u001b[0mtrain_set\u001b[0m\u001b[1;33m)\u001b[0m\u001b[1;33m.\u001b[0m\u001b[0m__name__\u001b[0m\u001b[1;33m)\u001b[0m\u001b[1;33m)\u001b[0m\u001b[1;33m\u001b[0m\u001b[0m\n\u001b[1;32m-> 1449\u001b[1;33m             \u001b[0mparams_str\u001b[0m \u001b[1;33m=\u001b[0m \u001b[0mparam_dict_to_str\u001b[0m\u001b[1;33m(\u001b[0m\u001b[0mparams\u001b[0m\u001b[1;33m)\u001b[0m\u001b[1;33m\u001b[0m\u001b[0m\n\u001b[0m\u001b[0;32m   1450\u001b[0m             \u001b[1;31m# construct booster object\u001b[0m\u001b[1;33m\u001b[0m\u001b[1;33m\u001b[0m\u001b[0m\n\u001b[0;32m   1451\u001b[0m             \u001b[0mself\u001b[0m\u001b[1;33m.\u001b[0m\u001b[0mhandle\u001b[0m \u001b[1;33m=\u001b[0m \u001b[0mctypes\u001b[0m\u001b[1;33m.\u001b[0m\u001b[0mc_void_p\u001b[0m\u001b[1;33m(\u001b[0m\u001b[1;33m)\u001b[0m\u001b[1;33m\u001b[0m\u001b[0m\n",
      "\u001b[1;32m~\\Anaconda3\\lib\\site-packages\\lightgbm\\basic.py\u001b[0m in \u001b[0;36mparam_dict_to_str\u001b[1;34m(data)\u001b[0m\n\u001b[0;32m    131\u001b[0m         \u001b[1;32melif\u001b[0m \u001b[0mval\u001b[0m \u001b[1;32mis\u001b[0m \u001b[1;32mnot\u001b[0m \u001b[1;32mNone\u001b[0m\u001b[1;33m:\u001b[0m\u001b[1;33m\u001b[0m\u001b[0m\n\u001b[0;32m    132\u001b[0m             raise TypeError('Unknown type of parameter:%s, got:%s'\n\u001b[1;32m--> 133\u001b[1;33m                             % (key, type(val).__name__))\n\u001b[0m\u001b[0;32m    134\u001b[0m     \u001b[1;32mreturn\u001b[0m \u001b[1;34m' '\u001b[0m\u001b[1;33m.\u001b[0m\u001b[0mjoin\u001b[0m\u001b[1;33m(\u001b[0m\u001b[0mpairs\u001b[0m\u001b[1;33m)\u001b[0m\u001b[1;33m\u001b[0m\u001b[0m\n\u001b[0;32m    135\u001b[0m \u001b[1;33m\u001b[0m\u001b[0m\n",
      "\u001b[1;31mTypeError\u001b[0m: Unknown type of parameter:max_features, got:rv_frozen"
     ]
    }
   ],
   "source": [
    "from sklearn.model_selection import StratifiedKFold\n",
    "from lightgbm.sklearn import LGBMClassifier\n",
    "from sklearn.linear_model import ElasticNetCV\n",
    "from xgboost import XGBClassifier\n",
    "\n",
    "import scipy.stats as st\n",
    "from sklearn.model_selection import RandomizedSearchCV , GridSearchCV\n",
    "# x_for_train = x.copy() \n",
    "# x_ans_train = x_ans.copy()\n",
    "# # select_feature = list(x_for_train)\n",
    "# select_feature = feature_name\n",
    "# x_for_train = x_for_train[select_feature]\n",
    "# x_ans_train = x_ans_train[select_feature]\n",
    "# x_f = x_for_train.values\n",
    "test = 0\n",
    "# skf = StratifiedKFold(n_splits=splits, shuffle=True, random_state=200)\n",
    "# skf.get_n_splits(x_f)\n",
    "feature_name = list(x)\n",
    "# x_result = pd.DataFrame({'ini':np.zeros(x.shape[0])})\n",
    "x_stack_list = pd.DataFrame({'ini':np.zeros(x.shape[0])})\n",
    "x_ans_result = pd.DataFrame({'ini':np.zeros(x_ans.shape[0])})\n",
    "# x_stack_list2 = pd.DataFrame({'ini':np.zeros(x.shape[0])})\n",
    "# x_ans_result2 = pd.DataFrame({'ini':np.zeros(x_ans.shape[0])})\n",
    "\n",
    "list_importances = []\n",
    "# list_target = []\n",
    "\n",
    "for i in list_target:\n",
    "    splits=5\n",
    "#     x_for_train = x.copy() \n",
    "#     x_ans_train = x_ans.copy()\n",
    "    x_for_train = pd.concat([x, x_stack_list], axis=1, sort=False)\n",
    "    x_ans_train = x_ans.reset_index(drop=True).join(x_ans_result)\n",
    "    select_feature = list(x_for_train)\n",
    "#     select_feature = feature_name\n",
    "    x_for_train = x_for_train[select_feature]\n",
    "    x_ans_train = x_ans_train[select_feature]\n",
    "    \n",
    "    for a in category_list:\n",
    "        x_for_train[a], x_ans_train[a] = target_encode(x_for_train[a], \n",
    "                                 x_ans_train[a], \n",
    "                                 target=y[i], \n",
    "                                 min_samples_leaf=10,\n",
    "                                 smoothing=5,\n",
    "                                 noise_level=0,\n",
    "                                      )\n",
    "\n",
    "    y_kf = y[i].values\n",
    "    x_f = x_for_train.values\n",
    "#     print(x_for_train.values[0,:])\n",
    "    skf = StratifiedKFold(n_splits=splits, shuffle=True, random_state=200)\n",
    "    skf.get_n_splits(x_f)\n",
    "   \n",
    "    lgb_params = {\"objective\" : \"binary\", \"metric\" : \"auc\",\n",
    "              \"num_leaves\" : 50, \"learning_rate\" : 0.032, \n",
    "              \"bagging_fraction\" : 0.75, \"feature_fraction\" : 0.8, \"bagging_frequency\" : 9, 'use_best_model':True ,'nthread':-1}\n",
    "\n",
    "#     if(i == 'TargetEndIsLogIn'):\n",
    "#         lgb_params = {\"n_estimators\":500, \"objective\" : \"binary\", \"metric\" : \"auc\",\n",
    "#               \"num_leaves\" : 50, \"learning_rate\" : 0.032, \n",
    "#               \"bagging_fraction\" : 0.75, \"feature_fraction\" : 0.8, \"bagging_frequency\" : 9, 'use_best_model':True}\n",
    "    preds , importances , x_stack = train_predict(x_f,y_kf,x_ans_train,i,lgb_params,splits,skf)\n",
    "    list_importances = list_importances+[importances]\n",
    "    x_stack_list[i] = x_stack\n",
    "    x_ans_result[i] = preds\n",
    "#     x_stack_list2[i] = x_stack\n",
    "#     x_ans_result2[i] = preds\n",
    "x_stack_list = x_stack_list.drop(['ini'],axis=1)\n",
    "x_ans_result = x_ans_result.drop(['ini'],axis=1)\n",
    "# x_stack_list2 = x_stack_list2.drop(['ini'],axis=1)\n",
    "# x_ans_result2 = x_ans_result2.drop(['ini'],axis=1)"
   ]
  },
  {
   "cell_type": "code",
   "execution_count": 39,
   "metadata": {
    "scrolled": true
   },
   "outputs": [],
   "source": [
    "# x_stack_list"
   ]
  },
  {
   "cell_type": "code",
   "execution_count": 40,
   "metadata": {},
   "outputs": [],
   "source": [
    "# pd.concat([x, x_stack_list], axis=1, sort=False)\n",
    "# x_ans.reset_index(drop=True).join(x_ans_result)"
   ]
  },
  {
   "cell_type": "code",
   "execution_count": 59,
   "metadata": {},
   "outputs": [],
   "source": [
    "# np.savetxt(\"final_submit/test03.csv\", x_ans_result.values.astype(int), delimiter=\",\", fmt='%4d')\n",
    "np.savetxt(\"final_submit/test03.csv\", x_ans_result.values.astype(int), delimiter=\",\")"
   ]
  },
  {
   "cell_type": "code",
   "execution_count": 17,
   "metadata": {},
   "outputs": [],
   "source": [
    "importances = list_importances[0]"
   ]
  },
  {
   "cell_type": "code",
   "execution_count": 26,
   "metadata": {},
   "outputs": [
    {
     "data": {
      "text/plain": [
       "<matplotlib.axes._subplots.AxesSubplot at 0x2c0603a65f8>"
      ]
     },
     "execution_count": 26,
     "metadata": {},
     "output_type": "execute_result"
    },
    {
     "data": {
      "image/png": "[encoded data removed]",
      "text/plain": [
       "<Figure size 576x576 with 1 Axes>"
      ]
     },
     "metadata": {},
     "output_type": "display_data"
    }
   ],
   "source": [
    "import warnings\n",
    "import seaborn as sns\n",
    "from matplotlib import pyplot\n",
    "import matplotlib.pyplot as plt\n",
    "warnings.simplefilter('ignore', FutureWarning)\n",
    "\n",
    "importances['gain_log'] = np.log1p(importances['gain'])\n",
    "mean_gain = importances[['gain', 'feature']].groupby('feature').mean()\n",
    "importances['mean_gain'] = importances['feature'].map(mean_gain['gain'])\n",
    "\n",
    "plt.figure(figsize=(8, 8))\n",
    "sns.barplot(x='mean_gain', y='feature', data=importances.sort_values('mean_gain', ascending=False).head(150))"
   ]
  },
  {
   "cell_type": "code",
   "execution_count": 292,
   "metadata": {},
   "outputs": [],
   "source": [
    "# sns.barplot(x='mean_gain', y='feature', data=importances.sort_values('mean_gain', ascending=False))"
   ]
  },
  {
   "cell_type": "code",
   "execution_count": 33,
   "metadata": {},
   "outputs": [
    {
     "data": {
      "text/plain": [
       "138"
      ]
     },
     "execution_count": 33,
     "metadata": {},
     "output_type": "execute_result"
    }
   ],
   "source": [
    "select_feature = importances.sort_values('mean_gain', ascending=False).groupby('feature').mean()\n",
    "select_feature = select_feature[select_feature['mean_gain'] > 50]\n",
    "select_feature = select_feature.index.values.tolist()\n",
    "# select_feature = np.hstack(select_feature.index.values,np.array(['y_lgb']))\n",
    "len(select_feature)"
   ]
  },
  {
   "cell_type": "code",
   "execution_count": null,
   "metadata": {},
   "outputs": [],
   "source": [
    "from sklearn.model_selection import StratifiedKFold\n",
    "from lightgbm.sklearn import LGBMClassifier\n",
    "from sklearn.linear_model import ElasticNetCV\n",
    "# from sklearn.ensemble import RandomForestRegressor, AdaBoostRegressor\n",
    "# from xgboost import XGBRegressor\n",
    "# from sklearn.neighbors import KNeighborsRegressor\n",
    "import scipy.stats as st\n",
    "from sklearn.model_selection import RandomizedSearchCV , GridSearchCV\n",
    "import classification\n",
    "\n",
    "k=1\n",
    "splits=5\n",
    "\n",
    "\n",
    "lgb_params = {\"objective\" : \"binary\", \"metric\" : \"auc\",\n",
    "              \"num_leaves\" : 50, \"learning_rate\" : 0.032, \n",
    "              \"bagging_fraction\" : 0.75, \"feature_fraction\" : 0.8, \"bagging_frequency\" : 9, 'use_best_model':True}\n",
    "\n",
    "\n",
    "y_kf = np.copy(y)\n",
    "y_kf[y_kf != 0] = 1\n",
    "\n",
    "x_f = x.values\n",
    "skf = StratifiedKFold(n_splits=splits, shuffle=True, random_state=200)\n",
    "skf.get_n_splits(x_f)\n",
    "print('\\nStarting KFold iterations...')\n",
    "importances = pd.DataFrame()\n",
    "\n",
    "x_stack = pd.DataFrame({'ini':np.zeros(x.shape[0])})\n",
    "x_ans_stack = pd.DataFrame({'ini':np.zeros(x_ans.shape[0])})\n",
    "\n",
    "avg_score= np.zeros(6)\n",
    "avg_score_all = 0\n",
    "kk = 1\n",
    "for train_index,test_index in skf.split(x_f,y_kf):\n",
    "\n",
    "    lgb = LGBMRegressor(**lgb_params)\n",
    "#     xgb = XGBRegressor(nthread=-1)\n",
    "\n",
    "    \n",
    "    df_X=x_f[train_index,:]\n",
    "    df_y=y[train_index]\n",
    "    val_X=x_f[test_index,:]\n",
    "    val_y=y[test_index]\n",
    "    \n",
    "    modelq = classification.get_regressor(n_jobs = -1,n_iter = 5,n_iter_nt = 2,n_components = 25,cv = 5,\n",
    "                  seed=42,n_features= 40,is_pca = False,scoring = 'neg_mean_absolute_error')\n",
    "#     models = [('lgb',lgb),('xgb',xgb),('rnf',rnf)]\n",
    "    models = [('lgb',lgb)] + modelq\n",
    "    for n,(name,model) in enumerate(models,0):\n",
    "        model.fit(df_X,df_y)\n",
    "        preds_x=pd.Series(model.predict(val_X))\n",
    "        acc = score1(val_y,preds_x)\n",
    "        print('Iteration:',k,'  rmse:',acc,'  model:',name)\n",
    "        if k==1:\n",
    "            x_stack['y_'+name] = 0\n",
    "            x_ans_stack['y_'+name] = 0\n",
    "            \n",
    "        if kk == 1:\n",
    "            kk = kk+1;\n",
    "            x_stack = x_stack.drop(['ini'],axis=1)\n",
    "            x_ans_stack = x_ans_stack.drop(['ini'],axis=1)\n",
    "        x_stack['y_'+name][test_index] = preds_x \n",
    "        preds1=pd.Series(model.predict(x_ans.values))\n",
    "        \n",
    "        x_ans_stack['y_'+name] += (preds1/splits)\n",
    "        avg_score[n]=avg_score[n]+acc\n",
    "    \n",
    "    val_mean = np.mean(x_stack.values[test_index,:], axis=1)\n",
    "    avg_score_all += score1(val_y,val_mean)/splits\n",
    "    print('Iteration:',k,' (All models)   rmse:',score1(val_y,val_mean))\n",
    "    k=k+1\n",
    "print(' Avg Score:',avg_score/splits,\"  All models:\",avg_score_all)\n",
    "# print('\\n Best score:',score,' Avg Score:',avg_score/splits)\n",
    "# preds=preds/splits\n",
    "# x_ans_stack = x_ans.copy()\n",
    "# x_ans_stack['y_lgb'] = 0\n",
    "# x_ans_stack['y_lgb'] = preds"
   ]
  },
  {
   "cell_type": "code",
   "execution_count": 19,
   "metadata": {},
   "outputs": [],
   "source": [
    "import numpy as np\n",
    "np.savetxt(\"final_submit/test.csv\", (np.zeros((49995,10))).astype(int), delimiter=\",\", fmt='% 4d')"
   ]
  },
  {
   "cell_type": "code",
   "execution_count": 16,
   "metadata": {},
   "outputs": [
    {
     "data": {
      "text/plain": [
       "array([[1, 1, 1, ..., 1, 1, 1],\n",
       "       [1, 1, 1, ..., 1, 1, 1],\n",
       "       [1, 1, 1, ..., 1, 1, 1],\n",
       "       ...,\n",
       "       [1, 1, 1, ..., 1, 1, 1],\n",
       "       [1, 1, 1, ..., 1, 1, 1],\n",
       "       [1, 1, 1, ..., 1, 1, 1]])"
      ]
     },
     "execution_count": 16,
     "metadata": {},
     "output_type": "execute_result"
    }
   ],
   "source": [
    "(np.zeros((49995,10))+1).astype(int)"
   ]
  },
  {
   "cell_type": "code",
   "execution_count": null,
   "metadata": {},
   "outputs": [],
   "source": []
  }
 ],
 "metadata": {
  "kernelspec": {
   "display_name": "Python 3",
   "language": "python",
   "name": "python3"
  },
  "language_info": {
   "codemirror_mode": {
    "name": "ipython",
    "version": 3
   },
   "file_extension": ".py",
   "mimetype": "text/x-python",
   "name": "python",
   "nbconvert_exporter": "python",
   "pygments_lexer": "ipython3",
   "version": "3.6.5"
  }
 },
 "nbformat": 4,
 "nbformat_minor": 2
}
